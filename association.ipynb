{
 "cells": [
  {
   "cell_type": "markdown",
   "id": "dc0c18ec",
   "metadata": {},
   "source": [
    "# 1. Imports"
   ]
  },
  {
   "cell_type": "code",
   "execution_count": 1,
   "id": "f5a6dbf5",
   "metadata": {},
   "outputs": [],
   "source": [
    "import random\n",
    "import pandas as pd\n",
    "from mlxtend.frequent_patterns import apriori, association_rules"
   ]
  },
  {
   "cell_type": "markdown",
   "id": "95bfb65c",
   "metadata": {},
   "source": [
    "# 2. Simulating transactions"
   ]
  },
  {
   "cell_type": "code",
   "execution_count": 2,
   "id": "e0f11564",
   "metadata": {},
   "outputs": [
    {
     "name": "stdout",
     "output_type": "stream",
     "text": [
      "Txn 1: ['Milk', 'Bananas', 'Bread', 'Apples']\n",
      "Txn 2: ['Milk', 'Chicken', 'Cheese']\n",
      "Txn 3: ['Eggs', 'Bananas', 'Bread', 'Cheese', 'Milk']\n",
      "Txn 4: ['Cheese', 'Bread', 'Cereal', 'Apples']\n",
      "Txn 5: ['Cheese', 'Chicken', 'Bread', 'Milk', 'Eggs', 'Bananas']\n",
      "Txn 6: ['Bananas', 'Milk', 'Eggs']\n",
      "Txn 7: ['Chicken', 'Bread', 'Cheese', 'Bananas', 'Eggs', 'Cereal']\n",
      "Txn 8: ['Chicken', 'Cheese', 'Cereal', 'Eggs']\n",
      "Txn 9: ['Chicken', 'Eggs', 'Bread']\n",
      "Txn 10: ['Chicken', 'Cereal', 'Bananas']\n",
      "Txn 11: ['Milk', 'Apples']\n",
      "Txn 12: ['Bananas', 'Bread']\n",
      "Txn 13: ['Cereal', 'Milk', 'Apples']\n",
      "Txn 14: ['Chicken', 'Bread', 'Apples']\n",
      "Txn 15: ['Cereal', 'Cheese', 'Bread', 'Chicken', 'Apples', 'Bananas']\n",
      "Txn 16: ['Apples', 'Milk']\n",
      "Txn 17: ['Bananas', 'Apples', 'Chicken']\n",
      "Txn 18: ['Apples', 'Milk', 'Chicken']\n",
      "Txn 19: ['Apples', 'Chicken', 'Bread', 'Eggs', 'Bananas', 'Cereal']\n",
      "Txn 20: ['Cheese', 'Cereal', 'Chicken', 'Bread', 'Bananas']\n"
     ]
    }
   ],
   "source": [
    "# Define a list of unique items that can appear in transactions\n",
    "items = ['Bread','Milk','Eggs','Cheese','Apples','Bananas','Chicken','Cereal']\n",
    "\n",
    "# Initialize an empty list to hold all simulated transactions\n",
    "transactions = []\n",
    "\n",
    "# Loop 20 times to create 20 separate transactions\n",
    "for i in range(20):\n",
    "    # pick 2–6 unique items per transaction\n",
    "    txn = random.sample(items, random.randint(2,6))\n",
    "    # Append this list of items to the 'transactions' list\n",
    "    transactions.append(txn)\n",
    "\n",
    "# Display each transaction with its index (starting at 1)\n",
    "for i, txn in enumerate(transactions, 1):\n",
    "    print(f\"Txn {i}: {txn}\")"
   ]
  },
  {
   "cell_type": "markdown",
   "id": "951aa516",
   "metadata": {},
   "source": [
    "# 3. One-Hot Encoding"
   ]
  },
  {
   "cell_type": "code",
   "execution_count": 3,
   "id": "4d7f40a1",
   "metadata": {},
   "outputs": [
    {
     "data": {
      "application/vnd.microsoft.datawrangler.viewer.v0+json": {
       "columns": [
        {
         "name": "index",
         "rawType": "int64",
         "type": "integer"
        },
        {
         "name": "Bread",
         "rawType": "bool",
         "type": "boolean"
        },
        {
         "name": "Milk",
         "rawType": "bool",
         "type": "boolean"
        },
        {
         "name": "Eggs",
         "rawType": "bool",
         "type": "boolean"
        },
        {
         "name": "Cheese",
         "rawType": "bool",
         "type": "boolean"
        },
        {
         "name": "Apples",
         "rawType": "bool",
         "type": "boolean"
        },
        {
         "name": "Bananas",
         "rawType": "bool",
         "type": "boolean"
        },
        {
         "name": "Chicken",
         "rawType": "bool",
         "type": "boolean"
        },
        {
         "name": "Cereal",
         "rawType": "bool",
         "type": "boolean"
        }
       ],
       "ref": "d22b12bd-2b53-4aa2-bbbd-43945937d3ee",
       "rows": [
        [
         "0",
         "True",
         "True",
         "False",
         "False",
         "True",
         "True",
         "False",
         "False"
        ],
        [
         "1",
         "False",
         "True",
         "False",
         "True",
         "False",
         "False",
         "True",
         "False"
        ],
        [
         "2",
         "True",
         "True",
         "True",
         "True",
         "False",
         "True",
         "False",
         "False"
        ],
        [
         "3",
         "True",
         "False",
         "False",
         "True",
         "True",
         "False",
         "False",
         "True"
        ],
        [
         "4",
         "True",
         "True",
         "True",
         "True",
         "False",
         "True",
         "True",
         "False"
        ]
       ],
       "shape": {
        "columns": 8,
        "rows": 5
       }
      },
      "text/html": [
       "<div>\n",
       "<style scoped>\n",
       "    .dataframe tbody tr th:only-of-type {\n",
       "        vertical-align: middle;\n",
       "    }\n",
       "\n",
       "    .dataframe tbody tr th {\n",
       "        vertical-align: top;\n",
       "    }\n",
       "\n",
       "    .dataframe thead th {\n",
       "        text-align: right;\n",
       "    }\n",
       "</style>\n",
       "<table border=\"1\" class=\"dataframe\">\n",
       "  <thead>\n",
       "    <tr style=\"text-align: right;\">\n",
       "      <th></th>\n",
       "      <th>Bread</th>\n",
       "      <th>Milk</th>\n",
       "      <th>Eggs</th>\n",
       "      <th>Cheese</th>\n",
       "      <th>Apples</th>\n",
       "      <th>Bananas</th>\n",
       "      <th>Chicken</th>\n",
       "      <th>Cereal</th>\n",
       "    </tr>\n",
       "  </thead>\n",
       "  <tbody>\n",
       "    <tr>\n",
       "      <th>0</th>\n",
       "      <td>True</td>\n",
       "      <td>True</td>\n",
       "      <td>False</td>\n",
       "      <td>False</td>\n",
       "      <td>True</td>\n",
       "      <td>True</td>\n",
       "      <td>False</td>\n",
       "      <td>False</td>\n",
       "    </tr>\n",
       "    <tr>\n",
       "      <th>1</th>\n",
       "      <td>False</td>\n",
       "      <td>True</td>\n",
       "      <td>False</td>\n",
       "      <td>True</td>\n",
       "      <td>False</td>\n",
       "      <td>False</td>\n",
       "      <td>True</td>\n",
       "      <td>False</td>\n",
       "    </tr>\n",
       "    <tr>\n",
       "      <th>2</th>\n",
       "      <td>True</td>\n",
       "      <td>True</td>\n",
       "      <td>True</td>\n",
       "      <td>True</td>\n",
       "      <td>False</td>\n",
       "      <td>True</td>\n",
       "      <td>False</td>\n",
       "      <td>False</td>\n",
       "    </tr>\n",
       "    <tr>\n",
       "      <th>3</th>\n",
       "      <td>True</td>\n",
       "      <td>False</td>\n",
       "      <td>False</td>\n",
       "      <td>True</td>\n",
       "      <td>True</td>\n",
       "      <td>False</td>\n",
       "      <td>False</td>\n",
       "      <td>True</td>\n",
       "    </tr>\n",
       "    <tr>\n",
       "      <th>4</th>\n",
       "      <td>True</td>\n",
       "      <td>True</td>\n",
       "      <td>True</td>\n",
       "      <td>True</td>\n",
       "      <td>False</td>\n",
       "      <td>True</td>\n",
       "      <td>True</td>\n",
       "      <td>False</td>\n",
       "    </tr>\n",
       "  </tbody>\n",
       "</table>\n",
       "</div>"
      ],
      "text/plain": [
       "   Bread   Milk   Eggs  Cheese  Apples  Bananas  Chicken  Cereal\n",
       "0   True   True  False   False    True     True    False   False\n",
       "1  False   True  False    True   False    False     True   False\n",
       "2   True   True   True    True   False     True    False   False\n",
       "3   True  False  False    True    True    False    False    True\n",
       "4   True   True   True    True   False     True     True   False"
      ]
     },
     "execution_count": 3,
     "metadata": {},
     "output_type": "execute_result"
    }
   ],
   "source": [
    "# Convert to one-hot DataFrame where each row corresponds to one transaction, and each column corresponds to one item.\n",
    "# Create a DataFrame of lists\n",
    "oht = pd.DataFrame([\n",
    "    {\n",
    "        item: (item in txn) \n",
    "        for item in items    \n",
    "    }\n",
    "    for txn in transactions\n",
    "])\n",
    "\n",
    "oht.head()"
   ]
  },
  {
   "cell_type": "markdown",
   "id": "59688cbc",
   "metadata": {},
   "source": [
    "# 4. Apriori: Frequent Items(Support ≥ 0.3)"
   ]
  },
  {
   "cell_type": "code",
   "execution_count": 4,
   "id": "e53164df",
   "metadata": {},
   "outputs": [
    {
     "name": "stdout",
     "output_type": "stream",
     "text": [
      "    support            itemsets\n",
      "0      0.55             (Bread)\n",
      "1      0.45              (Milk)\n",
      "2      0.35              (Eggs)\n",
      "3      0.40            (Cheese)\n",
      "4      0.50            (Apples)\n",
      "5      0.55           (Bananas)\n",
      "6      0.60           (Chicken)\n",
      "7      0.40            (Cereal)\n",
      "8      0.30     (Cheese, Bread)\n",
      "9      0.40    (Bananas, Bread)\n",
      "10     0.35    (Chicken, Bread)\n",
      "11     0.30   (Chicken, Cheese)\n",
      "12     0.35  (Bananas, Chicken)\n",
      "13     0.30   (Cereal, Chicken)\n"
     ]
    }
   ],
   "source": [
    "freq_itemsets = apriori(oht, min_support=0.3, use_colnames=True)\n",
    "print(freq_itemsets)"
   ]
  },
  {
   "cell_type": "markdown",
   "id": "ff4ebfee",
   "metadata": {},
   "source": [
    "# 5. Generate Association Rules (confidence ≥ 0.7)"
   ]
  },
  {
   "cell_type": "code",
   "execution_count": 9,
   "id": "abfe2713",
   "metadata": {},
   "outputs": [
    {
     "data": {
      "application/vnd.microsoft.datawrangler.viewer.v0+json": {
       "columns": [
        {
         "name": "index",
         "rawType": "int64",
         "type": "integer"
        },
        {
         "name": "antecedents",
         "rawType": "object",
         "type": "unknown"
        },
        {
         "name": "consequents",
         "rawType": "object",
         "type": "unknown"
        },
        {
         "name": "support",
         "rawType": "float64",
         "type": "float"
        },
        {
         "name": "confidence",
         "rawType": "float64",
         "type": "float"
        },
        {
         "name": "lift",
         "rawType": "float64",
         "type": "float"
        }
       ],
       "ref": "1184adc2-d949-47ae-91fe-1be329ddd371",
       "rows": [
        [
         "0",
         "frozenset({'Cheese'})",
         "frozenset({'Bread'})",
         "0.3",
         "0.7499999999999999",
         "1.3636363636363633"
        ],
        [
         "4",
         "frozenset({'Cereal'})",
         "frozenset({'Chicken'})",
         "0.3",
         "0.7499999999999999",
         "1.2499999999999998"
        ]
       ],
       "shape": {
        "columns": 5,
        "rows": 2
       }
      },
      "text/html": [
       "<div>\n",
       "<style scoped>\n",
       "    .dataframe tbody tr th:only-of-type {\n",
       "        vertical-align: middle;\n",
       "    }\n",
       "\n",
       "    .dataframe tbody tr th {\n",
       "        vertical-align: top;\n",
       "    }\n",
       "\n",
       "    .dataframe thead th {\n",
       "        text-align: right;\n",
       "    }\n",
       "</style>\n",
       "<table border=\"1\" class=\"dataframe\">\n",
       "  <thead>\n",
       "    <tr style=\"text-align: right;\">\n",
       "      <th></th>\n",
       "      <th>antecedents</th>\n",
       "      <th>consequents</th>\n",
       "      <th>support</th>\n",
       "      <th>confidence</th>\n",
       "      <th>lift</th>\n",
       "    </tr>\n",
       "  </thead>\n",
       "  <tbody>\n",
       "    <tr>\n",
       "      <th>0</th>\n",
       "      <td>(Cheese)</td>\n",
       "      <td>(Bread)</td>\n",
       "      <td>0.3</td>\n",
       "      <td>0.75</td>\n",
       "      <td>1.363636</td>\n",
       "    </tr>\n",
       "    <tr>\n",
       "      <th>4</th>\n",
       "      <td>(Cereal)</td>\n",
       "      <td>(Chicken)</td>\n",
       "      <td>0.3</td>\n",
       "      <td>0.75</td>\n",
       "      <td>1.250000</td>\n",
       "    </tr>\n",
       "  </tbody>\n",
       "</table>\n",
       "</div>"
      ],
      "text/plain": [
       "  antecedents consequents  support  confidence      lift\n",
       "0    (Cheese)     (Bread)      0.3        0.75  1.363636\n",
       "4    (Cereal)   (Chicken)      0.3        0.75  1.250000"
      ]
     },
     "execution_count": 9,
     "metadata": {},
     "output_type": "execute_result"
    }
   ],
   "source": [
    "rules = association_rules(freq_itemsets, metric=\"confidence\", min_threshold=0.7)\n",
    "# Sort by confidence\n",
    "rules = rules.sort_values('confidence', ascending=False)\n",
    "# View the rules, showing key columns only\n",
    "rules[['antecedents','consequents','support','confidence','lift']].head(2)\n",
    "\n"
   ]
  },
  {
   "cell_type": "markdown",
   "id": "38a7d0f3",
   "metadata": {},
   "source": [
    "# 6. Explain One Rule in Plain Language"
   ]
  },
  {
   "cell_type": "markdown",
   "id": "507c6eae",
   "metadata": {},
   "source": [
    "In my data, 74.99% of all shopping baskets that include Cheese also include Bread. So if a customer grabs Cheese, there’s a very high chance they’ll pick up Bread in the same trip."
   ]
  }
 ],
 "metadata": {
  "kernelspec": {
   "display_name": "Python 3",
   "language": "python",
   "name": "python3"
  },
  "language_info": {
   "codemirror_mode": {
    "name": "ipython",
    "version": 3
   },
   "file_extension": ".py",
   "mimetype": "text/x-python",
   "name": "python",
   "nbconvert_exporter": "python",
   "pygments_lexer": "ipython3",
   "version": "3.13.4"
  }
 },
 "nbformat": 4,
 "nbformat_minor": 5
}
